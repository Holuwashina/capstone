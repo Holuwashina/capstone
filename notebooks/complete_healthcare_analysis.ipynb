{
 "cells": [
  {
   "cell_type": "markdown",
   "metadata": {},
   "source": [
    "# HealthConnect Data Analysis Project\n",
    "\n",
    "## Project Overview\n",
    "This notebook provides a comprehensive analysis of HealthConnect's patient data, including:\n",
    "1. Data Cleaning and Preprocessing\n",
    "2. Exploratory Data Analysis\n",
    "3. Statistical Analysis\n",
    "4. Visualization Preparation for Tableau\n",
    "5. Predictive Analytics\n",
    "\n",
    "The insights from this analysis will help HealthConnect better understand patient outcomes and optimize healthcare delivery."
   ]
  },
  {
   "cell_type": "code",
   "execution_count": 1,
   "metadata": {},
   "outputs": [
    {
     "ename": "ModuleNotFoundError",
     "evalue": "No module named 'scripts.visualization_settings'",
     "output_type": "error",
     "traceback": [
      "\u001b[1;31m---------------------------------------------------------------------------\u001b[0m",
      "\u001b[1;31mModuleNotFoundError\u001b[0m                       Traceback (most recent call last)",
      "Cell \u001b[1;32mIn[1], line 1\u001b[0m\n\u001b[1;32m----> 1\u001b[0m \u001b[38;5;28;01mfrom\u001b[39;00m \u001b[38;5;21;01mscripts\u001b[39;00m\u001b[38;5;21;01m.\u001b[39;00m\u001b[38;5;21;01mvisualization_settings\u001b[39;00m \u001b[38;5;28;01mimport\u001b[39;00m \u001b[38;5;241m*\u001b[39m\n",
      "\u001b[1;31mModuleNotFoundError\u001b[0m: No module named 'scripts.visualization_settings'"
     ]
    }
   ],
   "source": [
    "# Import required libraries and setup path\n",
    "import sys\n",
    "import os\n",
    "\n",
    "# Get the absolute path to the project directory\n",
    "notebook_path = os.path.abspath('')\n",
    "project_dir = os.path.dirname(notebook_path)\n",
    "if project_dir not in sys.path:\n",
    "    sys.path.insert(0, project_dir)\n",
    "\n",
    "# Import visualization settings and required libraries\n",
    "from scripts.visualization_settings import *\n",
    "\n",
    "# Load and prepare the data\n",
    "data_path = os.path.join(project_dir, 'data', 'patient_data.csv')\n",
    "df = pd.read_csv(data_path)\n",
    "\n",
    "# Convert date columns to datetime\n",
    "df['AdmissionDate'] = pd.to_datetime(df['AdmissionDate'])\n",
    "df['DischargeDate'] = pd.to_datetime(df['DischargeDate'])\n",
    "\n",
    "# Display basic information\n",
    "print('Dataset Shape:', df.shape)\n",
    "print('\\nColumns:', df.columns.tolist())\n",
    "print('\\nData Types:')\n",
    "print(df.dtypes)\n",
    "print('\\nFirst few rows:')\n",
    "display(df.head())\n",
    "\n",
    "# Check for missing values\n",
    "print('\\nMissing Values:')\n",
    "print(df.isnull().sum())\n",
    "\n",
    "# Display value counts for key categories\n",
    "print('\\nValue Counts for Key Categories:')\n",
    "for col in ['Region', 'Gender', 'Diagnosis', 'Treatment', 'InsuranceType']:\n",
    "    if col in df.columns:\n",
    "        print(f'\\n{col}:\\n', df[col].value_counts())"
   ]
  },
  {
   "cell_type": "markdown",
   "metadata": {},
   "source": [
    "## 1. Data Loading and Cleaning"
   ]
  },
  {
   "cell_type": "code",
   "execution_count": null,
   "metadata": {},
   "outputs": [],
   "source": [
    "# Load the dataset\n",
    "df = pd.read_csv('../data/patient_data.csv')\n",
    "\n",
    "# Display basic information\n",
    "print('Dataset Shape:', df.shape)\n",
    "print('\\nColumns:', df.columns.tolist())\n",
    "print('\\nData Types:')\n",
    "print(df.dtypes)\n",
    "\n",
    "# Check for missing values\n",
    "print('\\nMissing Values:')\n",
    "print(df.isnull().sum())\n",
    "\n",
    "# Convert date columns to datetime\n",
    "df['AdmissionDate'] = pd.to_datetime(df['AdmissionDate'])\n",
    "df['DischargeDate'] = pd.to_datetime(df['DischargeDate'])\n",
    "\n",
    "# Verify data integrity\n",
    "print('\\nValue Counts for Key Categories:')\n",
    "for col in ['Region', 'Gender', 'Diagnosis', 'Treatment', 'InsuranceType']:\n",
    "    print(f'\\n{col}:\\n', df[col].value_counts())"
   ]
  },
  {
   "cell_type": "markdown",
   "metadata": {},
   "source": [
    "## 2. Exploratory Data Analysis\n",
    "\n",
    "### 2.1 Patient Demographics"
   ]
  },
  {
   "cell_type": "code",
   "execution_count": null,
   "metadata": {},
   "outputs": [],
   "source": [
    "# Age distribution\n",
    "plt.figure(figsize=(12, 6))\n",
    "sns.histplot(data=df, x='Age', bins=30)\n",
    "plt.title('Age Distribution of Patients')\n",
    "plt.show()\n",
    "\n",
    "# Gender distribution\n",
    "plt.figure(figsize=(8, 6))\n",
    "df['Gender'].value_counts().plot(kind='pie', autopct='%1.1f%%')\n",
    "plt.title('Gender Distribution')\n",
    "plt.show()\n",
    "\n",
    "# Regional distribution\n",
    "plt.figure(figsize=(10, 6))\n",
    "sns.countplot(data=df, x='Region')\n",
    "plt.title('Patient Distribution by Region')\n",
    "plt.xticks(rotation=45)\n",
    "plt.show()"
   ]
  },
  {
   "cell_type": "markdown",
   "metadata": {},
   "source": [
    "### 2.2 Disease Patterns and Treatment Outcomes"
   ]
  },
  {
   "cell_type": "code",
   "execution_count": null,
   "metadata": {},
   "outputs": [],
   "source": [
    "# Most common diagnoses\n",
    "plt.figure(figsize=(12, 6))\n",
    "diagnosis_counts = df['Diagnosis'].value_counts()\n",
    "sns.barplot(x=diagnosis_counts.values, y=diagnosis_counts.index)\n",
    "plt.title('Most Common Diagnoses')\n",
    "plt.show()\n",
    "\n",
    "# Treatment success rates\n",
    "success_rates = df.groupby('Treatment')['TreatmentSuccess'].mean().sort_values(ascending=False)\n",
    "plt.figure(figsize=(12, 6))\n",
    "sns.barplot(x=success_rates.values, y=success_rates.index)\n",
    "plt.title('Treatment Success Rates')\n",
    "plt.show()\n",
    "\n",
    "# Heatmap of diagnoses by region\n",
    "region_diagnosis = pd.crosstab(df['Region'], df['Diagnosis'])\n",
    "plt.figure(figsize=(15, 8))\n",
    "sns.heatmap(region_diagnosis, annot=True, fmt='d', cmap='YlOrRd')\n",
    "plt.title('Diagnosis Distribution by Region')\n",
    "plt.xticks(rotation=45)\n",
    "plt.show()"
   ]
  },
  {
   "cell_type": "markdown",
   "metadata": {},
   "source": [
    "### 2.3 Treatment Analysis"
   ]
  },
  {
   "cell_type": "code",
   "execution_count": null,
   "metadata": {},
   "outputs": [],
   "source": [
    "# Average length of stay by treatment\n",
    "plt.figure(figsize=(12, 6))\n",
    "sns.boxplot(data=df, x='Treatment', y='LengthOfStay')\n",
    "plt.title('Length of Stay by Treatment Type')\n",
    "plt.xticks(rotation=45)\n",
    "plt.show()\n",
    "\n",
    "# Success rate by diagnosis and treatment\n",
    "success_matrix = df.pivot_table(\n",
    "    values='TreatmentSuccess',\n",
    "    index='Diagnosis',\n",
    "    columns='Treatment',\n",
    "    aggfunc='mean'\n",
    ")\n",
    "\n",
    "plt.figure(figsize=(15, 8))\n",
    "sns.heatmap(success_matrix, annot=True, fmt='.2f', cmap='RdYlGn')\n",
    "plt.title('Treatment Success Rates by Diagnosis and Treatment Type')\n",
    "plt.xticks(rotation=45)\n",
    "plt.show()"
   ]
  },
  {
   "cell_type": "markdown",
   "metadata": {},
   "source": [
    "## 3. Predictive Analytics"
   ]
  },
  {
   "cell_type": "code",
   "execution_count": null,
   "metadata": {},
   "outputs": [],
   "source": [
    "# Prepare data for modeling\n",
    "def prepare_features(df):\n",
    "    # Create feature matrix\n",
    "    features = df[['Age', 'InitialSeverity', 'Comorbidities', 'LengthOfStay']].copy()\n",
    "    \n",
    "    # Encode categorical variables\n",
    "    categorical_cols = ['Gender', 'Region', 'Treatment', 'InsuranceType', 'Diagnosis']\n",
    "    \n",
    "    for col in categorical_cols:\n",
    "        le = LabelEncoder()\n",
    "        features[col] = le.fit_transform(df[col])\n",
    "    \n",
    "    return features\n",
    "\n",
    "# Prepare features and target\n",
    "X = prepare_features(df)\n",
    "y = df['TreatmentSuccess']\n",
    "\n",
    "# Split the data\n",
    "X_train, X_test, y_train, y_test = train_test_split(X, y, test_size=0.2, random_state=42)\n",
    "\n",
    "# Train Random Forest model\n",
    "rf_model = RandomForestClassifier(n_estimators=100, random_state=42)\n",
    "rf_model.fit(X_train, y_train)\n",
    "\n",
    "# Make predictions\n",
    "y_pred = rf_model.predict(X_test)\n",
    "\n",
    "# Print classification report\n",
    "print('Model Performance:')\n",
    "print(classification_report(y_test, y_pred))\n",
    "\n",
    "# Feature importance\n",
    "feature_importance = pd.DataFrame({\n",
    "    'feature': X.columns,\n",
    "    'importance': rf_model.feature_importances_\n",
    "}).sort_values('importance', ascending=False)\n",
    "\n",
    "plt.figure(figsize=(12, 6))\n",
    "sns.barplot(data=feature_importance, x='importance', y='feature')\n",
    "plt.title('Feature Importance in Predicting Treatment Success')\n",
    "plt.show()"
   ]
  },
  {
   "cell_type": "markdown",
   "metadata": {},
   "source": [
    "## 4. Export Data for Tableau Visualization\n",
    "\n",
    "We'll prepare and export specific datasets for Tableau visualizations:"
   ]
  },
  {
   "cell_type": "code",
   "execution_count": 2,
   "metadata": {},
   "outputs": [
    {
     "ename": "NameError",
     "evalue": "name 'df' is not defined",
     "output_type": "error",
     "traceback": [
      "\u001b[1;31m---------------------------------------------------------------------------\u001b[0m",
      "\u001b[1;31mNameError\u001b[0m                                 Traceback (most recent call last)",
      "Cell \u001b[1;32mIn[2], line 2\u001b[0m\n\u001b[0;32m      1\u001b[0m \u001b[38;5;66;03m# 1. Demographics by health condition\u001b[39;00m\n\u001b[1;32m----> 2\u001b[0m demographics \u001b[38;5;241m=\u001b[39m \u001b[43mdf\u001b[49m\u001b[38;5;241m.\u001b[39mgroupby([\u001b[38;5;124m'\u001b[39m\u001b[38;5;124mDiagnosis\u001b[39m\u001b[38;5;124m'\u001b[39m, \u001b[38;5;124m'\u001b[39m\u001b[38;5;124mAge\u001b[39m\u001b[38;5;124m'\u001b[39m, \u001b[38;5;124m'\u001b[39m\u001b[38;5;124mGender\u001b[39m\u001b[38;5;124m'\u001b[39m, \u001b[38;5;124m'\u001b[39m\u001b[38;5;124mRegion\u001b[39m\u001b[38;5;124m'\u001b[39m])\u001b[38;5;241m.\u001b[39msize()\u001b[38;5;241m.\u001b[39mreset_index(name\u001b[38;5;241m=\u001b[39m\u001b[38;5;124m'\u001b[39m\u001b[38;5;124mcount\u001b[39m\u001b[38;5;124m'\u001b[39m)\n\u001b[0;32m      3\u001b[0m demographics\u001b[38;5;241m.\u001b[39mto_csv(\u001b[38;5;124m'\u001b[39m\u001b[38;5;124m../data/tableau_demographics.csv\u001b[39m\u001b[38;5;124m'\u001b[39m, index\u001b[38;5;241m=\u001b[39m\u001b[38;5;28;01mFalse\u001b[39;00m)\n\u001b[0;32m      5\u001b[0m \u001b[38;5;66;03m# 2. Treatment success rates\u001b[39;00m\n",
      "\u001b[1;31mNameError\u001b[0m: name 'df' is not defined"
     ]
    }
   ],
   "source": [
    "# 1. Demographics by health condition\n",
    "demographics = df.groupby(['Diagnosis', 'Age', 'Gender', 'Region']).size().reset_index(name='count')\n",
    "demographics.to_csv('../data/tableau_demographics.csv', index=False)\n",
    "\n",
    "# 2. Treatment success rates\n",
    "treatment_success = df.groupby(['Treatment', 'Diagnosis'])['TreatmentSuccess'].agg(['mean', 'count']).reset_index()\n",
    "treatment_success.to_csv('../data/tableau_treatment_success.csv', index=False)\n",
    "\n",
    "# 3. Geographical distribution\n",
    "geo_distribution = df.groupby(['Region', 'Diagnosis']).size().reset_index(name='count')\n",
    "geo_distribution.to_csv('../data/tableau_geo_distribution.csv', index=False)\n",
    "\n",
    "print('Data files for Tableau visualization have been exported to the data directory.')"
   ]
  },
  {
   "cell_type": "markdown",
   "metadata": {},
   "source": [
    "## 5. Key Findings and Recommendations\n",
    "\n",
    "Based on our analysis, here are the key findings:\n",
    "\n",
    "1. Demographics:\n",
    "   - Age distribution patterns\n",
    "   - Gender differences in health conditions\n",
    "   - Regional variations in disease prevalence\n",
    "\n",
    "2. Treatment Outcomes:\n",
    "   - Most successful treatment methods\n",
    "   - Factors affecting treatment success\n",
    "   - Length of stay patterns\n",
    "\n",
    "3. Predictive Insights:\n",
    "   - Key factors influencing treatment success\n",
    "   - High-risk patient profiles\n",
    "   - Treatment optimization opportunities\n",
    "\n",
    "Recommendations:\n",
    "1. Treatment Optimization\n",
    "2. Resource Allocation\n",
    "3. Risk Management\n",
    "4. Patient Care Improvements"
   ]
  }
 ],
 "metadata": {
  "kernelspec": {
   "display_name": "Python 3 (ipykernel)",
   "language": "python",
   "name": "python3"
  },
  "language_info": {
   "codemirror_mode": {
    "name": "ipython",
    "version": 3
   },
   "file_extension": ".py",
   "mimetype": "text/x-python",
   "name": "python",
   "nbconvert_exporter": "python",
   "pygments_lexer": "ipython3",
   "version": "3.9.20"
  }
 },
 "nbformat": 4,
 "nbformat_minor": 4
}
